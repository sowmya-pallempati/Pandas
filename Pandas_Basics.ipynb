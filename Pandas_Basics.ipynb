{
 "cells": [
  {
   "cell_type": "code",
   "execution_count": 2,
   "id": "68e95b58",
   "metadata": {},
   "outputs": [],
   "source": [
    "#python library for analysing, cleaning, exploring and manipulating data \n",
    "#statistical analysis\n",
    "\n",
    "import pandas as pd\n"
   ]
  },
  {
   "cell_type": "code",
   "execution_count": 42,
   "id": "b67295e7",
   "metadata": {},
   "outputs": [
    {
     "name": "stdout",
     "output_type": "stream",
     "text": [
      "   Students  Grades\n",
      "0    sowmya     3.5\n",
      "1   karnati     4.0\n",
      "2    tharun     3.5\n",
      "3  yoshitha     4.0\n"
     ]
    }
   ],
   "source": [
    "#DF should be capital in DataFrame\n",
    "\n",
    "mydata = {\n",
    "    'Students': ['sowmya','karnati','tharun','yoshitha'],\n",
    "    'Grades': [3.5,4,3.5,4]\n",
    "}\n",
    "\n",
    "df = pd.DataFrame(mydata)\n",
    "print(df)"
   ]
  },
  {
   "cell_type": "code",
   "execution_count": 43,
   "id": "5d2ff788",
   "metadata": {},
   "outputs": [
    {
     "name": "stdout",
     "output_type": "stream",
     "text": [
      "   Students  Grades\n",
      "0    sowmya     3.5\n",
      "1   karnati     4.0\n",
      "2    tharun     3.5\n",
      "3  yoshitha     4.0\n",
      "\n",
      " After giving labels to each row\n",
      "\n",
      "    Students  Grades\n",
      "S1    sowmya     3.5\n",
      "S2   karnati     4.0\n",
      "S3    tharun     3.5\n",
      "S4  yoshitha     4.0\n",
      "\n",
      " printing a row using label \n",
      " Students    karnati\n",
      "Grades          4.0\n",
      "Name: S2, dtype: object\n"
     ]
    }
   ],
   "source": [
    "#creating Labels\n",
    "\n",
    "#since no labelling is done, by default values has index numbers(0,1,2...)\n",
    "df = pd.DataFrame(mydata)\n",
    "print(df)\n",
    "\n",
    "print(\"\\n After giving labels to each row\\n\")\n",
    "df = pd.DataFrame(mydata, index = [\"S1\",\"S2\",\"S3\",\"S4\"])\n",
    "print(df)\n",
    "\n",
    "df['Students']['S1']\n",
    "print(\"\\n printing a row using label \\n\" , df.loc[\"S2\"])"
   ]
  },
  {
   "cell_type": "code",
   "execution_count": 6,
   "id": "bcd39195",
   "metadata": {},
   "outputs": [
    {
     "name": "stdout",
     "output_type": "stream",
     "text": [
      "2\n"
     ]
    }
   ],
   "source": [
    "#Series - we can access element by its label \n",
    "#1D array holds any type of data\n",
    "#just like a column in a table\n",
    "\n",
    "a = [1,2,3]\n",
    "\n",
    "df= pd.Series(a, index=[\"x\",\"y\",\"z\"])\n",
    "\n",
    "print(df[\"y\"])"
   ]
  },
  {
   "cell_type": "code",
   "execution_count": 25,
   "id": "18e89c6d",
   "metadata": {},
   "outputs": [
    {
     "name": "stdout",
     "output_type": "stream",
     "text": [
      "Predictive    3\n",
      "PM            2\n",
      "Tech com      1\n",
      "dtype: int64\n",
      "2\n"
     ]
    }
   ],
   "source": [
    "# creating series using dictonary\n",
    "\n",
    "course_credits = {\"Predictive\": 3 ,\"PM\":2 ,\"Tech com\": 1}\n",
    "dict= pd.Series(course_credits)\n",
    "print(dict)\n",
    "\n",
    "pd.Series(dict, index = [\"PM\",\"Tech com\"])\n",
    "\n",
    "print(dict[\"PM\"])\n"
   ]
  },
  {
   "cell_type": "code",
   "execution_count": 39,
   "id": "62d22c97",
   "metadata": {},
   "outputs": [
    {
     "name": "stdout",
     "output_type": "stream",
     "text": [
      "\n",
      " prints a series \n",
      " vegetables    potatoes\n",
      "fruits          grapes\n",
      "Name: 1, dtype: object\n",
      "\n",
      " prints both rows and columns \n",
      "   vegetables  fruits\n",
      "0   tomatoes   apple\n",
      "1   potatoes  grapes\n"
     ]
    }
   ],
   "source": [
    "#loc in df return the specified rows from data table\n",
    "\n",
    "groceries = {\n",
    "    \"vegetables\": ['tomatoes','potatoes'], \n",
    "     \"fruits\": ['apple', 'grapes']\n",
    "}\n",
    "\n",
    "df = pd.DataFrame(groceries)\n",
    "\n",
    "print(\"\\n prints a series \\n\" , df.loc[1])\n",
    "print(\"\\n prints both rows and columns \\n\" ,df.loc[[0,1]])"
   ]
  },
  {
   "cell_type": "code",
   "execution_count": 7,
   "id": "7008db77",
   "metadata": {},
   "outputs": [
    {
     "name": "stdout",
     "output_type": "stream",
     "text": [
      "      id  gender  age  hypertension  heart_disease ever_married      work_type Residence_type  avg_glucose_level   bmi   smoking_status  stroke\n",
      "0   9046    Male   67             0              1          Yes        Private          Urban             228.69  36.6  formerly smoked       1\n",
      "1  51676  Female   61             0              0          Yes  Self-employed          Rural             202.21   NaN     never smoked       1\n",
      "2  31112    Male   80             0              1          Yes        Private          Rural             105.92  32.5     never smoked       1\n",
      "3  60182  Female   49             0              0          Yes        Private          Urban             171.23  34.4           smokes       1\n",
      "4   1665  Female   79             1              0          Yes  Self-employed          Rural             174.12  24.0     never smoked       1\n"
     ]
    }
   ],
   "source": [
    "#loading files into data frame\n",
    "#should mention r before giving path of file\n",
    "\n",
    "#to_String returns all the rows from tha data\n",
    "\n",
    "df = pd.read_csv(r\"C:\\Users\\Pallempati Sowmya\\Desktop\\Practise_dataset.csv\")\n",
    "print(df.to_string())\n",
    "\n"
   ]
  },
  {
   "cell_type": "code",
   "execution_count": 9,
   "id": "9e79bd7a",
   "metadata": {},
   "outputs": [
    {
     "name": "stdout",
     "output_type": "stream",
     "text": [
      "      id  gender  age  hypertension  heart_disease ever_married  \\\n",
      "0   9046    Male   67             0              1          Yes   \n",
      "1  51676  Female   61             0              0          Yes   \n",
      "2  31112    Male   80             0              1          Yes   \n",
      "3  60182  Female   49             0              0          Yes   \n",
      "4   1665  Female   79             1              0          Yes   \n",
      "\n",
      "       work_type Residence_type  avg_glucose_level   bmi   smoking_status  \\\n",
      "0        Private          Urban             228.69  36.6  formerly smoked   \n",
      "1  Self-employed          Rural             202.21   NaN     never smoked   \n",
      "2        Private          Rural             105.92  32.5     never smoked   \n",
      "3        Private          Urban             171.23  34.4           smokes   \n",
      "4  Self-employed          Rural             174.12  24.0     never smoked   \n",
      "\n",
      "   stroke  \n",
      "0       1  \n",
      "1       1  \n",
      "2       1  \n",
      "3       1  \n",
      "4       1  \n"
     ]
    }
   ],
   "source": [
    "#if there is a huge data set printing df return first 5 and last 5 rows in data table\n",
    "\n",
    "print(df)"
   ]
  },
  {
   "cell_type": "code",
   "execution_count": 12,
   "id": "003c03f9",
   "metadata": {},
   "outputs": [
    {
     "name": "stdout",
     "output_type": "stream",
     "text": [
      "60\n"
     ]
    }
   ],
   "source": [
    "#checking system's maximum rows\n",
    "\n",
    "print(pd.options.display.max_rows) "
   ]
  },
  {
   "cell_type": "code",
   "execution_count": 13,
   "id": "5a7d4030",
   "metadata": {},
   "outputs": [],
   "source": [
    "#if the DataFrame contains more than 60 rows, \n",
    "#the print(df) statement will return only the headers and the first and last 5 rows.\n",
    "\n",
    "#we can change limit by mentioning a value.\n",
    "\n",
    "pd.options.display.max_rows = 999\n"
   ]
  },
  {
   "cell_type": "code",
   "execution_count": null,
   "id": "f5742bb7",
   "metadata": {},
   "outputs": [],
   "source": [
    "#loading json file\n",
    "\n",
    "js = pd.read_json(\"path of file/filename.json\")"
   ]
  }
 ],
 "metadata": {
  "kernelspec": {
   "display_name": "Python 3 (ipykernel)",
   "language": "python",
   "name": "python3"
  },
  "language_info": {
   "codemirror_mode": {
    "name": "ipython",
    "version": 3
   },
   "file_extension": ".py",
   "mimetype": "text/x-python",
   "name": "python",
   "nbconvert_exporter": "python",
   "pygments_lexer": "ipython3",
   "version": "3.9.13"
  }
 },
 "nbformat": 4,
 "nbformat_minor": 5
}
